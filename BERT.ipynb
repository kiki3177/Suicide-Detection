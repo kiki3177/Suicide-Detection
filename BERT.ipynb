{
 "cells": [
  {
   "cell_type": "markdown",
   "metadata": {
    "id": "0KJFCc4I7e2g"
   },
   "source": "# **Suicide Detection - BERT Model**\n"
  },
  {
   "cell_type": "markdown",
   "metadata": {
    "collapsed": false,
    "id": "Q_uQLLfUMof-",
    "jupyter": {
     "outputs_hidden": false
    }
   },
   "source": [
    "# **Environment Settings**"
   ]
  },
  {
   "cell_type": "code",
   "execution_count": 5,
   "metadata": {
    "colab": {
     "base_uri": "https://localhost:8080/"
    },
    "id": "frCrVECRVaPb",
    "outputId": "a17260e2-153c-4777-e34f-0ae1365ebac8"
   },
   "outputs": [
    {
     "name": "stdout",
     "output_type": "stream",
     "text": [
      "Drive already mounted at /content/drive; to attempt to forcibly remount, call drive.mount(\"/content/drive\", force_remount=True).\n"
     ]
    }
   ],
   "source": [
    "from google.colab import drive\n",
    "drive.mount('/content/drive')"
   ]
  },
  {
   "cell_type": "code",
   "execution_count": 6,
   "metadata": {
    "id": "5Bs3KyY0aYmY"
   },
   "outputs": [],
   "source": [
    "!pip install -qqq praw unidecode contractions wordninja symspellpy pyspellchecker"
   ]
  },
  {
   "cell_type": "code",
   "execution_count": 3,
   "metadata": {
    "ExecuteTime": {
     "end_time": "2024-03-11T07:58:23.131677Z",
     "start_time": "2024-03-11T07:57:33.212398Z"
    },
    "id": "bfZeYqy0S_wK"
   },
   "outputs": [],
   "source": [
    "import praw\n",
    "\n",
    "import pandas as pd\n",
    "import numpy as np\n",
    "import matplotlib.pyplot as plt\n",
    "\n",
    "import spacy\n",
    "import unidecode\n",
    "import contractions as contract\n",
    "import re\n",
    "import wordninja\n",
    "import collections\n",
    "import pkg_resources\n",
    "from spellchecker import SpellChecker\n",
    "from symspellpy import SymSpell, Verbosity\n",
    "from tqdm import tqdm\n",
    "\n",
    "from sklearn.model_selection import train_test_split\n",
    "from sklearn.feature_extraction.text import CountVectorizer\n",
    "from sklearn.preprocessing import OneHotEncoder\n",
    "from sklearn.pipeline import Pipeline\n",
    "from sklearn.metrics import accuracy_score, confusion_matrix, ConfusionMatrixDisplay\n",
    "\n",
    "import torch\n",
    "import torch.nn as nn\n",
    "import torch.optim as optim\n",
    "from torch.utils.data import Dataset, DataLoader\n",
    "from sklearn.feature_extraction.text import CountVectorizer\n",
    "from torchvision import models\n",
    "import torch.nn.functional as F\n",
    "import torch\n",
    "from transformers import BertTokenizer, BertForSequenceClassification\n",
    "import os\n",
    "import time\n",
    "import random"
   ]
  },
  {
   "cell_type": "markdown",
   "metadata": {
    "id": "lneVBFTK7yhF"
   },
   "source": [
    "# **Web Scraping and Sanity Check**"
   ]
  },
  {
   "cell_type": "code",
   "execution_count": null,
   "metadata": {
    "id": "hh_RIqyhTNOQ"
   },
   "outputs": [],
   "source": [
    "# initialize Reddit API credentials\n",
    "# sensitive information being replaced by XXX\n",
    "reddit = praw.Reddit(client_id='XXX',\n",
    "                     client_secret='XXX',\n",
    "                     username='XXX',\n",
    "                     password='XXX',\n",
    "                     user_agent='XXX',\n",
    "                     check_for_async=False)"
   ]
  },
  {
   "cell_type": "code",
   "execution_count": null,
   "metadata": {
    "id": "Niby0eagYjlZ"
   },
   "outputs": [],
   "source": [
    "# define a function to get posts from a subreddit and save to a csv file\n",
    "def get_posts(subreddit_name, num_posts):\n",
    "    posts = []\n",
    "    subreddit = reddit.subreddit(subreddit_name)\n",
    "    for post in subreddit.hot(limit=num_posts):\n",
    "        posts.append([post.title, post.selftext, post.subreddit])\n",
    "    post = pd.DataFrame(posts, columns=['post_title', 'post_body', 'label'])\n",
    "    post.to_csv('/content/drive/MyDrive/IMT574/'+subreddit_name + '.csv')\n",
    "    return post"
   ]
  },
  {
   "cell_type": "code",
   "execution_count": null,
   "metadata": {
    "id": "NLE20dH3TNL6"
   },
   "outputs": [],
   "source": [
    "# retrieve posts from specified subreddits\n",
    "get_posts('depression', 1000)\n",
    "get_posts('offmychest', 1000)\n",
    "get_posts('SuicideWatch', 1000)\n",
    "get_posts('teenagers', 1000)\n",
    "\n",
    "df_dep = pd.read_csv('/content/drive/MyDrive/IMT574/depression.csv')\n",
    "df_omc = pd.read_csv('/content/drive/MyDrive/IMT574/offmychest.csv')\n",
    "df_sw = pd.read_csv('/content/drive/MyDrive/IMT574/SuicideWatch.csv')\n",
    "df_tg = pd.read_csv('/content/drive/MyDrive/IMT574/teenagers.csv')"
   ]
  },
  {
   "cell_type": "code",
   "execution_count": null,
   "metadata": {
    "id": "BqI_8OQZTNJ2"
   },
   "outputs": [],
   "source": [
    "# merged datasets into one\n",
    "df_post = pd.concat([df_dep, df_omc, df_sw, df_tg], ignore_index=True)\n",
    "df_post = df_post.drop(columns=['Unnamed: 0', 'post_title'])\n",
    "\n",
    "# map labels to binary values\n",
    "label_mapping = {'depression': 1, 'SuicideWatch': 1, 'teenagers': 0, 'offmychest': 0}\n",
    "df_post['label'] = df_post['label'].map(label_mapping)"
   ]
  },
  {
   "cell_type": "code",
   "execution_count": null,
   "metadata": {
    "colab": {
     "base_uri": "https://localhost:8080/"
    },
    "id": "Cg-qLa_e9ADl",
    "outputId": "568ee8c7-fb82-4a14-f75f-e71813f6dcec"
   },
   "outputs": [
    {
     "data": {
      "text/plain": [
       "post_body    252\n",
       "label          0\n",
       "dtype: int64"
      ]
     },
     "execution_count": 8,
     "metadata": {},
     "output_type": "execute_result"
    }
   ],
   "source": [
    "# check NA values\n",
    "df_post.isnull().sum()"
   ]
  },
  {
   "cell_type": "code",
   "execution_count": null,
   "metadata": {
    "colab": {
     "base_uri": "https://localhost:8080/"
    },
    "id": "nOrOZ0YC9EZb",
    "outputId": "4cac976b-5103-41ba-da5c-057d61d9953c"
   },
   "outputs": [
    {
     "data": {
      "text/plain": [
       "post_body    object\n",
       "label         int64\n",
       "dtype: object"
      ]
     },
     "execution_count": 9,
     "metadata": {},
     "output_type": "execute_result"
    }
   ],
   "source": [
    "# check data types\n",
    "df_post.dtypes"
   ]
  },
  {
   "cell_type": "markdown",
   "metadata": {
    "id": "UlkzZmvV8Kzl"
   },
   "source": [
    "# **Data Preprocessing**"
   ]
  },
  {
   "cell_type": "code",
   "execution_count": null,
   "metadata": {
    "colab": {
     "base_uri": "https://localhost:8080/"
    },
    "id": "Lxa2PY12TNF7",
    "outputId": "0d858c9a-1c75-4ea1-eb8e-8632650b84d8"
   },
   "outputs": [
    {
     "name": "stdout",
     "output_type": "stream",
     "text": [
      "\u001B[38;5;2m✔ Download and installation successful\u001B[0m\n",
      "You can now load the package via spacy.load('en_core_web_sm')\n",
      "\u001B[38;5;3m⚠ Restart to reload dependencies\u001B[0m\n",
      "If you are in a Jupyter or Colab notebook, you may need to restart Python in\n",
      "order to load all the package's dependencies. You can do this by selecting the\n",
      "'Restart kernel' or 'Restart runtime' option.\n"
     ]
    }
   ],
   "source": [
    "# this section is modified based on the reference: https://github.com/gohjiayi/suicidal-text-detection/blob/main/data_preprocessing.ipynb\n",
    "# initialize SymSpell\n",
    "spacy.cli.download(\"en_core_web_sm\")\n",
    "nlp = spacy.load(\"en_core_web_sm\")\n",
    "vocab = collections.Counter()\n",
    "sym_spell = SymSpell(max_dictionary_edit_distance=2, prefix_length=7)\n",
    "dictionary_path = pkg_resources.resource_filename(\n",
    "    \"symspellpy\", \"frequency_dictionary_en_82_765.txt\")\n",
    "bigram_path = pkg_resources.resource_filename(\n",
    "    \"symspellpy\", \"frequency_bigramdictionary_en_243_342.txt\")\n",
    "sym_spell.load_dictionary(dictionary_path, term_index=0, count_index=1)\n",
    "sym_spell.load_bigram_dictionary(bigram_path, term_index=0, count_index=2)\n",
    "\n",
    "# spell check\n",
    "def fix_spelling(post):\n",
    "    suggestions = sym_spell.lookup_compound(post, max_edit_distance=2)\n",
    "    correctedtext = suggestions[0].term # get the first suggestion or returns original text\n",
    "    return correctedtext\n",
    "\n",
    "# remove privative words from stopwords list\n",
    "deselect_stop_words = ['no', 'not']\n",
    "for n in deselect_stop_words:\n",
    "    nlp.vocab[n].is_stop = False\n",
    "\n",
    "# remove extra whitespaces\n",
    "def remove_extra_whitespace(post):\n",
    "    post = post.strip()\n",
    "    return \" \".join(post.split())\n",
    "\n",
    "# remove accented characters\n",
    "def remove_accented_characters(post):\n",
    "    post = unidecode.unidecode(post)\n",
    "    return post\n",
    "\n",
    "# removing special characters\n",
    "def remove_special_characters(post):\n",
    "    return post.replace(\"\\r\", \" \").replace(\"\\n\", \" \").replace(\"    \", \" \").replace('\"', '')\n",
    "\n",
    "# remove URL\n",
    "def remove_url(post):\n",
    "    return re.sub(r'http\\S+', '', post)\n",
    "\n",
    "# removing symbols and digits\n",
    "def remove_symbols_digits(post):\n",
    "    return re.sub('[^a-zA-Z\\s]', ' ', post)\n",
    "\n",
    "# fix word lengthening (characters are wrongly repeated)\n",
    "def fix_lengthening(post):\n",
    "    pattern = re.compile(r\"(.)\\1{2,}\")\n",
    "    return pattern.sub(r\"\\1\\1\", post)\n",
    "\n",
    "# main text preprocessing function\n",
    "def text_preprocessing(post, accented_characters=True, contractions=True, lowercase=True, url=True, symbols_digits=True, special_characters=True, extra_whitespace=True, lengthening=True, spelling=True,\n",
    "                       convert_num=True, lemmatization=True,  stop_words=True):\n",
    "    # preprocess text with default option set to true for all steps\n",
    "    post = str(post)\n",
    "    if accented_characters == True:\n",
    "        post = remove_accented_characters(post)\n",
    "    if contractions == True:\n",
    "        post = contract.fix(post)\n",
    "    if lowercase == True:\n",
    "        post = post.lower()\n",
    "    if url == True:\n",
    "        post = remove_url(post)\n",
    "    if symbols_digits == True:\n",
    "        post = remove_symbols_digits(post)\n",
    "    if special_characters == True:\n",
    "        post = remove_special_characters(post)\n",
    "    if extra_whitespace == True:\n",
    "        post = remove_extra_whitespace(post)\n",
    "    if lengthening == True:\n",
    "        post = fix_lengthening(post)\n",
    "    if spelling == True:\n",
    "        post = fix_spelling(post)\n",
    "\n",
    "    doc = nlp(post)\n",
    "    cleaned_post = []\n",
    "\n",
    "    for token in doc:\n",
    "        flag = True\n",
    "        edit = token.text\n",
    "        # remove stop words\n",
    "        if stop_words == True and token.is_stop and token.pos_ != 'NUM':\n",
    "            flag = False\n",
    "        # exclude number words\n",
    "        if convert_num == True and token.pos_ == 'NUM' and flag == True:\n",
    "            flag = False\n",
    "        # convert tokens to base form\n",
    "        elif lemmatization == True and token.lemma_ != \"-PRON-\" and flag == True:\n",
    "            edit = token.lemma_\n",
    "        # append tokens edited and not removed to list\n",
    "        if edit != \"\" and flag == True:\n",
    "            cleaned_post.append(edit)\n",
    "    return \" \".join(cleaned_post)"
   ]
  },
  {
   "cell_type": "code",
   "execution_count": null,
   "metadata": {
    "id": "M_v9QOgOTND1"
   },
   "outputs": [],
   "source": [
    "# apply text preprocessing function to 'post_body' column\n",
    "tqdm.pandas(desc=\"Processing\")\n",
    "df_post['post_body'] = df_post['post_body'].progress_apply(lambda row: text_preprocessing(row))\n",
    "\n",
    "# save cleaned data to CSV\n",
    "df_post.to_csv('/content/drive/MyDrive/IMT574/cleaned_data.csv')"
   ]
  },
  {
   "cell_type": "code",
   "execution_count": 8,
   "metadata": {
    "ExecuteTime": {
     "end_time": "2024-03-11T02:00:21.217745Z",
     "start_time": "2024-03-11T02:00:21.192971Z"
    },
    "colab": {
     "base_uri": "https://localhost:8080/",
     "height": 359
    },
    "id": "fUtinRA6MogG",
    "outputId": "01491df9-6a00-44b5-f358-2a160d99f8bb"
   },
   "outputs": [
    {
     "data": {
      "application/vnd.google.colaboratory.intrinsic+json": {
       "summary": "{\n  \"name\": \"df_cleaned_post\",\n  \"rows\": 3181,\n  \"fields\": [\n    {\n      \"column\": \"post_body\",\n      \"properties\": {\n        \"dtype\": \"string\",\n        \"num_unique_values\": 3140,\n        \"samples\": [\n          \"school wifi block not work stuff like youtube certain website turn phone van easily use youtube app website try block\",\n          \"delete create new not embarrassing thing like personal stuff\",\n          \"young typical chubby nerd large mop curly hair head interest include magic gather world war craft etc thing social skill despite overall nerdy interest sociable comedic allow avoid bully high school decide lose weight friend zone woman glamour reasonably attractive young man continue college enjoy romantic relationship year old man commit relationship beautiful woman love sound great right not obsession attractive woman believe stem adolescent insecurity feel like inside chubby kid get reject woman believe beautiful girl happy able talk beautiful woman depress know not fact commit relationship simply not interested constantly look photo attractive woman inst gram catch save photo girlfriend cry discover try justify cheat cheat life feel like piece shit not deserve love feel tie self worth attractive woman great relationship high pay job happy healthy feel long woman admire etc hope not come pervert douche bag seriously want issue need therapist help fat nerd friend zone reasonably attractive girlfriend tie self worth physical beauty\"\n        ],\n        \"semantic_type\": \"\",\n        \"description\": \"\"\n      }\n    },\n    {\n      \"column\": \"label\",\n      \"properties\": {\n        \"dtype\": \"number\",\n        \"std\": 0,\n        \"min\": 0,\n        \"max\": 1,\n        \"num_unique_values\": 2,\n        \"samples\": [\n          0,\n          1\n        ],\n        \"semantic_type\": \"\",\n        \"description\": \"\"\n      }\n    }\n  ]\n}",
       "type": "dataframe",
       "variable_name": "df_cleaned_post"
      },
      "text/html": [
       "\n",
       "  <div id=\"df-badc629c-b7cd-429e-be32-b5bb65c29d20\" class=\"colab-df-container\">\n",
       "    <div>\n",
       "<style scoped>\n",
       "    .dataframe tbody tr th:only-of-type {\n",
       "        vertical-align: middle;\n",
       "    }\n",
       "\n",
       "    .dataframe tbody tr th {\n",
       "        vertical-align: top;\n",
       "    }\n",
       "\n",
       "    .dataframe thead th {\n",
       "        text-align: right;\n",
       "    }\n",
       "</style>\n",
       "<table border=\"1\" class=\"dataframe\">\n",
       "  <thead>\n",
       "    <tr style=\"text-align: right;\">\n",
       "      <th></th>\n",
       "      <th>post_body</th>\n",
       "      <th>label</th>\n",
       "    </tr>\n",
       "  </thead>\n",
       "  <tbody>\n",
       "    <tr>\n",
       "      <th>0</th>\n",
       "      <td>understand people reply immediately invitation...</td>\n",
       "      <td>1</td>\n",
       "    </tr>\n",
       "    <tr>\n",
       "      <th>1</th>\n",
       "      <td>welcome depression check post place moment sha...</td>\n",
       "      <td>1</td>\n",
       "    </tr>\n",
       "    <tr>\n",
       "      <th>2</th>\n",
       "      <td>dentist today normal checkup fucking cavity ti...</td>\n",
       "      <td>1</td>\n",
       "    </tr>\n",
       "    <tr>\n",
       "      <th>3</th>\n",
       "      <td>not kind weird live long outlive majority spec...</td>\n",
       "      <td>1</td>\n",
       "    </tr>\n",
       "    <tr>\n",
       "      <th>4</th>\n",
       "      <td>catch countless time talk somebody not listen ...</td>\n",
       "      <td>1</td>\n",
       "    </tr>\n",
       "    <tr>\n",
       "      <th>5</th>\n",
       "      <td>mere fact depression fear worry sadness guilt ...</td>\n",
       "      <td>1</td>\n",
       "    </tr>\n",
       "    <tr>\n",
       "      <th>6</th>\n",
       "      <td>depression want forget awhile memory clinicall...</td>\n",
       "      <td>1</td>\n",
       "    </tr>\n",
       "    <tr>\n",
       "      <th>7</th>\n",
       "      <td>grow not suppose hard feel like dig pit no mat...</td>\n",
       "      <td>1</td>\n",
       "    </tr>\n",
       "    <tr>\n",
       "      <th>8</th>\n",
       "      <td>struggle hard deal depression past bad pointle...</td>\n",
       "      <td>1</td>\n",
       "    </tr>\n",
       "    <tr>\n",
       "      <th>9</th>\n",
       "      <td>year old female issue depression self esteem i...</td>\n",
       "      <td>1</td>\n",
       "    </tr>\n",
       "  </tbody>\n",
       "</table>\n",
       "</div>\n",
       "    <div class=\"colab-df-buttons\">\n",
       "\n",
       "  <div class=\"colab-df-container\">\n",
       "    <button class=\"colab-df-convert\" onclick=\"convertToInteractive('df-badc629c-b7cd-429e-be32-b5bb65c29d20')\"\n",
       "            title=\"Convert this dataframe to an interactive table.\"\n",
       "            style=\"display:none;\">\n",
       "\n",
       "  <svg xmlns=\"http://www.w3.org/2000/svg\" height=\"24px\" viewBox=\"0 -960 960 960\">\n",
       "    <path d=\"M120-120v-720h720v720H120Zm60-500h600v-160H180v160Zm220 220h160v-160H400v160Zm0 220h160v-160H400v160ZM180-400h160v-160H180v160Zm440 0h160v-160H620v160ZM180-180h160v-160H180v160Zm440 0h160v-160H620v160Z\"/>\n",
       "  </svg>\n",
       "    </button>\n",
       "\n",
       "  <style>\n",
       "    .colab-df-container {\n",
       "      display:flex;\n",
       "      gap: 12px;\n",
       "    }\n",
       "\n",
       "    .colab-df-convert {\n",
       "      background-color: #E8F0FE;\n",
       "      border: none;\n",
       "      border-radius: 50%;\n",
       "      cursor: pointer;\n",
       "      display: none;\n",
       "      fill: #1967D2;\n",
       "      height: 32px;\n",
       "      padding: 0 0 0 0;\n",
       "      width: 32px;\n",
       "    }\n",
       "\n",
       "    .colab-df-convert:hover {\n",
       "      background-color: #E2EBFA;\n",
       "      box-shadow: 0px 1px 2px rgba(60, 64, 67, 0.3), 0px 1px 3px 1px rgba(60, 64, 67, 0.15);\n",
       "      fill: #174EA6;\n",
       "    }\n",
       "\n",
       "    .colab-df-buttons div {\n",
       "      margin-bottom: 4px;\n",
       "    }\n",
       "\n",
       "    [theme=dark] .colab-df-convert {\n",
       "      background-color: #3B4455;\n",
       "      fill: #D2E3FC;\n",
       "    }\n",
       "\n",
       "    [theme=dark] .colab-df-convert:hover {\n",
       "      background-color: #434B5C;\n",
       "      box-shadow: 0px 1px 3px 1px rgba(0, 0, 0, 0.15);\n",
       "      filter: drop-shadow(0px 1px 2px rgba(0, 0, 0, 0.3));\n",
       "      fill: #FFFFFF;\n",
       "    }\n",
       "  </style>\n",
       "\n",
       "    <script>\n",
       "      const buttonEl =\n",
       "        document.querySelector('#df-badc629c-b7cd-429e-be32-b5bb65c29d20 button.colab-df-convert');\n",
       "      buttonEl.style.display =\n",
       "        google.colab.kernel.accessAllowed ? 'block' : 'none';\n",
       "\n",
       "      async function convertToInteractive(key) {\n",
       "        const element = document.querySelector('#df-badc629c-b7cd-429e-be32-b5bb65c29d20');\n",
       "        const dataTable =\n",
       "          await google.colab.kernel.invokeFunction('convertToInteractive',\n",
       "                                                    [key], {});\n",
       "        if (!dataTable) return;\n",
       "\n",
       "        const docLinkHtml = 'Like what you see? Visit the ' +\n",
       "          '<a target=\"_blank\" href=https://colab.research.google.com/notebooks/data_table.ipynb>data table notebook</a>'\n",
       "          + ' to learn more about interactive tables.';\n",
       "        element.innerHTML = '';\n",
       "        dataTable['output_type'] = 'display_data';\n",
       "        await google.colab.output.renderOutput(dataTable, element);\n",
       "        const docLink = document.createElement('div');\n",
       "        docLink.innerHTML = docLinkHtml;\n",
       "        element.appendChild(docLink);\n",
       "      }\n",
       "    </script>\n",
       "  </div>\n",
       "\n",
       "\n",
       "<div id=\"df-998f2795-21ec-48ea-a6a3-66b202720dd3\">\n",
       "  <button class=\"colab-df-quickchart\" onclick=\"quickchart('df-998f2795-21ec-48ea-a6a3-66b202720dd3')\"\n",
       "            title=\"Suggest charts\"\n",
       "            style=\"display:none;\">\n",
       "\n",
       "<svg xmlns=\"http://www.w3.org/2000/svg\" height=\"24px\"viewBox=\"0 0 24 24\"\n",
       "     width=\"24px\">\n",
       "    <g>\n",
       "        <path d=\"M19 3H5c-1.1 0-2 .9-2 2v14c0 1.1.9 2 2 2h14c1.1 0 2-.9 2-2V5c0-1.1-.9-2-2-2zM9 17H7v-7h2v7zm4 0h-2V7h2v10zm4 0h-2v-4h2v4z\"/>\n",
       "    </g>\n",
       "</svg>\n",
       "  </button>\n",
       "\n",
       "<style>\n",
       "  .colab-df-quickchart {\n",
       "      --bg-color: #E8F0FE;\n",
       "      --fill-color: #1967D2;\n",
       "      --hover-bg-color: #E2EBFA;\n",
       "      --hover-fill-color: #174EA6;\n",
       "      --disabled-fill-color: #AAA;\n",
       "      --disabled-bg-color: #DDD;\n",
       "  }\n",
       "\n",
       "  [theme=dark] .colab-df-quickchart {\n",
       "      --bg-color: #3B4455;\n",
       "      --fill-color: #D2E3FC;\n",
       "      --hover-bg-color: #434B5C;\n",
       "      --hover-fill-color: #FFFFFF;\n",
       "      --disabled-bg-color: #3B4455;\n",
       "      --disabled-fill-color: #666;\n",
       "  }\n",
       "\n",
       "  .colab-df-quickchart {\n",
       "    background-color: var(--bg-color);\n",
       "    border: none;\n",
       "    border-radius: 50%;\n",
       "    cursor: pointer;\n",
       "    display: none;\n",
       "    fill: var(--fill-color);\n",
       "    height: 32px;\n",
       "    padding: 0;\n",
       "    width: 32px;\n",
       "  }\n",
       "\n",
       "  .colab-df-quickchart:hover {\n",
       "    background-color: var(--hover-bg-color);\n",
       "    box-shadow: 0 1px 2px rgba(60, 64, 67, 0.3), 0 1px 3px 1px rgba(60, 64, 67, 0.15);\n",
       "    fill: var(--button-hover-fill-color);\n",
       "  }\n",
       "\n",
       "  .colab-df-quickchart-complete:disabled,\n",
       "  .colab-df-quickchart-complete:disabled:hover {\n",
       "    background-color: var(--disabled-bg-color);\n",
       "    fill: var(--disabled-fill-color);\n",
       "    box-shadow: none;\n",
       "  }\n",
       "\n",
       "  .colab-df-spinner {\n",
       "    border: 2px solid var(--fill-color);\n",
       "    border-color: transparent;\n",
       "    border-bottom-color: var(--fill-color);\n",
       "    animation:\n",
       "      spin 1s steps(1) infinite;\n",
       "  }\n",
       "\n",
       "  @keyframes spin {\n",
       "    0% {\n",
       "      border-color: transparent;\n",
       "      border-bottom-color: var(--fill-color);\n",
       "      border-left-color: var(--fill-color);\n",
       "    }\n",
       "    20% {\n",
       "      border-color: transparent;\n",
       "      border-left-color: var(--fill-color);\n",
       "      border-top-color: var(--fill-color);\n",
       "    }\n",
       "    30% {\n",
       "      border-color: transparent;\n",
       "      border-left-color: var(--fill-color);\n",
       "      border-top-color: var(--fill-color);\n",
       "      border-right-color: var(--fill-color);\n",
       "    }\n",
       "    40% {\n",
       "      border-color: transparent;\n",
       "      border-right-color: var(--fill-color);\n",
       "      border-top-color: var(--fill-color);\n",
       "    }\n",
       "    60% {\n",
       "      border-color: transparent;\n",
       "      border-right-color: var(--fill-color);\n",
       "    }\n",
       "    80% {\n",
       "      border-color: transparent;\n",
       "      border-right-color: var(--fill-color);\n",
       "      border-bottom-color: var(--fill-color);\n",
       "    }\n",
       "    90% {\n",
       "      border-color: transparent;\n",
       "      border-bottom-color: var(--fill-color);\n",
       "    }\n",
       "  }\n",
       "</style>\n",
       "\n",
       "  <script>\n",
       "    async function quickchart(key) {\n",
       "      const quickchartButtonEl =\n",
       "        document.querySelector('#' + key + ' button');\n",
       "      quickchartButtonEl.disabled = true;  // To prevent multiple clicks.\n",
       "      quickchartButtonEl.classList.add('colab-df-spinner');\n",
       "      try {\n",
       "        const charts = await google.colab.kernel.invokeFunction(\n",
       "            'suggestCharts', [key], {});\n",
       "      } catch (error) {\n",
       "        console.error('Error during call to suggestCharts:', error);\n",
       "      }\n",
       "      quickchartButtonEl.classList.remove('colab-df-spinner');\n",
       "      quickchartButtonEl.classList.add('colab-df-quickchart-complete');\n",
       "    }\n",
       "    (() => {\n",
       "      let quickchartButtonEl =\n",
       "        document.querySelector('#df-998f2795-21ec-48ea-a6a3-66b202720dd3 button');\n",
       "      quickchartButtonEl.style.display =\n",
       "        google.colab.kernel.accessAllowed ? 'block' : 'none';\n",
       "    })();\n",
       "  </script>\n",
       "</div>\n",
       "\n",
       "    </div>\n",
       "  </div>\n"
      ],
      "text/plain": [
       "                                           post_body  label\n",
       "0  understand people reply immediately invitation...      1\n",
       "1  welcome depression check post place moment sha...      1\n",
       "2  dentist today normal checkup fucking cavity ti...      1\n",
       "3  not kind weird live long outlive majority spec...      1\n",
       "4  catch countless time talk somebody not listen ...      1\n",
       "5  mere fact depression fear worry sadness guilt ...      1\n",
       "6  depression want forget awhile memory clinicall...      1\n",
       "7  grow not suppose hard feel like dig pit no mat...      1\n",
       "8  struggle hard deal depression past bad pointle...      1\n",
       "9  year old female issue depression self esteem i...      1"
      ]
     },
     "execution_count": 8,
     "metadata": {},
     "output_type": "execute_result"
    }
   ],
   "source": [
    "df_cleaned_post = pd.read_csv('/content/drive/MyDrive/IMT574/cleaned_data.csv')\n",
    "df_cleaned_post.head(10)"
   ]
  },
  {
   "cell_type": "code",
   "execution_count": 9,
   "metadata": {
    "ExecuteTime": {
     "end_time": "2024-03-11T02:00:31.489677Z",
     "start_time": "2024-03-11T02:00:31.483921Z"
    },
    "colab": {
     "base_uri": "https://localhost:8080/"
    },
    "id": "NtBrPHW8MogH",
    "outputId": "ab754e58-6a0d-4203-d1d2-5d49f52bc69c"
   },
   "outputs": [
    {
     "name": "stdout",
     "output_type": "stream",
     "text": [
      "Number of suicide case: 1726\n",
      "Number of nonsuicide case: 1455\n"
     ]
    }
   ],
   "source": [
    "# check dataset balance\n",
    "label_suicide = df_cleaned_post['label'].eq(1).sum()\n",
    "label_nonsuicide = df_cleaned_post['label'].eq(0).sum()\n",
    "print('Number of suicide case:',label_suicide)\n",
    "print('Number of nonsuicide case:',label_nonsuicide)"
   ]
  },
  {
   "cell_type": "markdown",
   "metadata": {
    "collapsed": false,
    "id": "R7-2DCi6MogH",
    "jupyter": {
     "outputs_hidden": false
    }
   },
   "source": [
    "**Dataset Description:**\n",
    "The dataset is obtained from Reddit. The data spans mostly the last 2-3 years and comprises 'hot'(popular) posts from various subreddit forums, some related to suicide and others not related. The purpose of this dataset is to explore mental health problems, particularly depression, in contemporary online discourse.\n",
    "\n",
    "**Features:**\n",
    "The dataset consists of two columns:\n",
    "1. Feature column: This includes the content of the posts scraped from Reddit.\n",
    "2. Target column: This column contains the labels assigned to each post. The labels are divided into two classes:\n",
    "   - 'Suicide': Posts collected from subreddits 'SuicideWatch' and 'depression', assumed to contain suicide-related content.\n",
    "   - 'Non-suicide': Posts from other subreddits 'teenagers' and 'offmychest', assumed not to contain suicide-related content.\n",
    "   The dataset is balance since the numbers of two classes are close.\n",
    "\n",
    "**Data Collection:**\n",
    "The data was collected through web scraping using praw, with posts gathered from various subreddit forums.\n",
    "\n",
    "**Important Notes:**\n",
    "1. The class labels were assigned based on the source subreddit. Here I assume that posts from specific subreddits contain content related to suicide, which may not always be accurate. There could be misclassification or overlap between different topics.\n",
    "2. The dataset's primary focus is on exploring mental health issues, particularly depression, as discussed in online communities. However, it's essential to acknowledge the limitations of using subreddit categorization as a basis for labeling posts.\n",
    "3. As proceeding with analysis, it's crucial to interpret the results with an understanding of these assumptions and potential biases inherent in the dataset."
   ]
  },
  {
   "cell_type": "markdown",
   "metadata": {
    "collapsed": false,
    "id": "MWllSue0MogH",
    "jupyter": {
     "outputs_hidden": false
    }
   },
   "source": [
    "**Research Question:**\n",
    "How can the textual content of online posts be used to predict the suicidal intention among individuals?\n",
    "\n",
    "**Explanation:**\n",
    "In this research, I aim to explore the relationship between the language used in online posts and the underlying mental health concerns, particularly suicidal ideation. By analyzing the textual content of posts gathered from various subreddits, the objective is to develop a predictive model that can identify the suicidal intention. Therefore, the research falls under supervised learning and it is a classification task. The goal is to learn a mapping from input features (textual content) to the corresponding output labels (suicidal or non-suicidal).\n",
    "\n",
    "**Expected Accomplishments:**\n",
    "1. **Understanding linguistic patterns:** By analyzing the language patterns present in online posts, we can gain insights into the linguistic cues associated with suicidal ideation. This understanding can help with prediction and contribute to the development of more effective intervention strategies for mental health support.\n",
    "2. **Early detection:** A predictive model capable of identifying the suicidal intention based on online posts could serve as an early detection tool. This could potentially lead to timely interventions and support for individuals at risk of self-harm or suicide."
   ]
  },
  {
   "cell_type": "markdown",
   "metadata": {
    "id": "DKuB1n_K9dGh"
   },
   "source": [
    "# **BERT Model**"
   ]
  },
  {
   "cell_type": "code",
   "execution_count": 10,
   "metadata": {
    "id": "xzB-FFBFMogI"
   },
   "outputs": [],
   "source": [
    "# set random seed\n",
    "torch.manual_seed(12)\n",
    "random.seed(12)\n",
    "np.random.seed(12)"
   ]
  },
  {
   "cell_type": "code",
   "execution_count": 11,
   "metadata": {
    "id": "GYi7hSDiTNBw"
   },
   "outputs": [],
   "source": [
    "# determine features and targets\n",
    "X = df_cleaned_post[\"post_body\"].astype(str).tolist()\n",
    "y = df_cleaned_post[\"label\"].astype(int).tolist()\n",
    "\n",
    "# split data into training, testing, and validation sets\n",
    "train_ratio = 0.7\n",
    "test_ratio = 0.2\n",
    "validation_ratio = 0.1\n",
    "train_texts, test_texts, train_labels, test_labels = train_test_split(X, y, test_size=1 - train_ratio, random_state=42)\n",
    "val_texts, test_texts, val_labels, test_labels = train_test_split(test_texts, test_labels, test_size=test_ratio/(test_ratio + validation_ratio), random_state=42)"
   ]
  },
  {
   "cell_type": "code",
   "execution_count": 12,
   "metadata": {
    "colab": {
     "base_uri": "https://localhost:8080/"
    },
    "id": "L1QEFiWqTM_t",
    "outputId": "2b6d97ff-c4e3-440c-f5b9-eeda8eb9fd2b"
   },
   "outputs": [
    {
     "name": "stderr",
     "output_type": "stream",
     "text": [
      "/usr/local/lib/python3.10/dist-packages/huggingface_hub/utils/_token.py:88: UserWarning: \n",
      "The secret `HF_TOKEN` does not exist in your Colab secrets.\n",
      "To authenticate with the Hugging Face Hub, create a token in your settings tab (https://huggingface.co/settings/tokens), set it as secret in your Google Colab and restart your session.\n",
      "You will be able to reuse this secret in all of your notebooks.\n",
      "Please note that authentication is recommended but still optional to access public models or datasets.\n",
      "  warnings.warn(\n"
     ]
    }
   ],
   "source": [
    "# tokenize and encode text data using BERT tokenizer\n",
    "tokenizer = BertTokenizer.from_pretrained('bert-base-uncased')\n",
    "train_encodings = tokenizer(train_texts, truncation=True, padding=True)\n",
    "test_encodings = tokenizer(test_texts, truncation=True, padding=True)\n",
    "val_encodings = tokenizer(val_texts, truncation=True, padding=True)\n",
    "\n",
    "# convert encodings to PyTorch tensors\n",
    "train_dataset = torch.utils.data.TensorDataset(torch.tensor(train_encodings['input_ids']),\n",
    "                                               torch.tensor(train_encodings['attention_mask']),\n",
    "                                               torch.tensor(train_labels))\n",
    "test_dataset = torch.utils.data.TensorDataset(torch.tensor(test_encodings['input_ids']),\n",
    "                                              torch.tensor(test_encodings['attention_mask']),\n",
    "                                              torch.tensor(test_labels))\n",
    "val_dataset = torch.utils.data.TensorDataset(torch.tensor(val_encodings['input_ids']),\n",
    "                                             torch.tensor(val_encodings['attention_mask']),\n",
    "                                             torch.tensor(val_labels))"
   ]
  },
  {
   "cell_type": "markdown",
   "metadata": {
    "collapsed": false,
    "id": "s1pzEDw-MogI",
    "jupyter": {
     "outputs_hidden": false
    }
   },
   "source": [
    "The algorithm I choose to apply in this research is BERT (Bidirectional Encoder Representations from Transformers), which is a Neural Network model.\n",
    "\n",
    "Reasons for choose BERT:\n",
    "1. **Pre-trained contextual understanding:**\n",
    "   BERT is a transformer-based model pre-trained on large corpora of text data, enabling it to capture contextual relationships between words and phrases effectively. This contextual understanding is essential for accurately interpreting the nuanced language in online posts and allows BERT to learn rich, contextual sentences.\n",
    "\n",
    "2. **Bi-directional attention:**\n",
    "   Compared to traditional models like LSTM (Long Short-Term Memory) which process texts sequentially forward, bi-directional attention mechanism is applied to BERT enables it to both left and right context when encoding each word. Therefore, BERT has the strong capacity to capture dependencies and relationships among sentences moe comprehensively, which can be beneficial for understanding context of language especially in emotional discussions.\n",
    "\n",
    "3. **Robust Performance:**\n",
    "   BERT is a model frequently used in NLP tasks such as sentiment analysis, text classification, suggesting BERT is suitable for handling complex posts in online discussions."
   ]
  },
  {
   "cell_type": "code",
   "execution_count": 13,
   "metadata": {
    "colab": {
     "base_uri": "https://localhost:8080/"
    },
    "id": "8sJxGfjpTM93",
    "outputId": "1cd65c47-28c2-4e3c-cb78-32c37228cc82"
   },
   "outputs": [
    {
     "name": "stdout",
     "output_type": "stream",
     "text": [
      "CUDA is available!\n"
     ]
    }
   ],
   "source": [
    "# check if CUDA is available\n",
    "if torch.cuda.is_available():\n",
    "    device = torch.device(\"cuda\")\n",
    "    print(\"CUDA is available!\")\n",
    "elif torch.backends.mps.is_available():\n",
    "    device = torch.device(\"mps\")\n",
    "    print(\"MPS is available!\")\n",
    "else:\n",
    "    device = torch.device(\"cpu\")\n",
    "    print(\"Use CPU only.\")"
   ]
  },
  {
   "cell_type": "code",
   "execution_count": 14,
   "metadata": {
    "id": "CWoFBQY2TM7g"
   },
   "outputs": [],
   "source": [
    "# model settings\n",
    "epochs = 11\n",
    "lr = 1e-5\n",
    "batch_size = 20"
   ]
  },
  {
   "cell_type": "code",
   "execution_count": 15,
   "metadata": {
    "colab": {
     "base_uri": "https://localhost:8080/",
     "height": 880
    },
    "id": "hGQ-EwCOTM5Q",
    "outputId": "32dccda1-2364-4fe1-90ee-33aee0e6fb37"
   },
   "outputs": [
    {
     "name": "stderr",
     "output_type": "stream",
     "text": [
      "Some weights of BertForSequenceClassification were not initialized from the model checkpoint at bert-base-uncased and are newly initialized: ['classifier.bias', 'classifier.weight']\n",
      "You should probably TRAIN this model on a down-stream task to be able to use it for predictions and inference.\n",
      "Epoch [1/11], Batch [112/112], Loss: 0.8999:   9%|▉         | 112/1232 [03:10<25:27,  1.36s/it]"
     ]
    },
    {
     "name": "stdout",
     "output_type": "stream",
     "text": [
      "Epoch [1/11], Training Accuracy: 69.14%\n",
      "Validation Accuracy: 75.47%\n"
     ]
    },
    {
     "name": "stderr",
     "output_type": "stream",
     "text": [
      "Epoch [2/11], Batch [112/112], Loss: 0.3202:  18%|█▊        | 224/1232 [06:36<22:54,  1.36s/it]"
     ]
    },
    {
     "name": "stdout",
     "output_type": "stream",
     "text": [
      "Epoch [2/11], Training Accuracy: 79.92%\n",
      "Validation Accuracy: 77.04%\n"
     ]
    },
    {
     "name": "stderr",
     "output_type": "stream",
     "text": [
      "Epoch [3/11], Batch [112/112], Loss: 0.2731:  27%|██▋       | 336/1232 [10:02<20:27,  1.37s/it]"
     ]
    },
    {
     "name": "stdout",
     "output_type": "stream",
     "text": [
      "Epoch [3/11], Training Accuracy: 83.56%\n",
      "Validation Accuracy: 80.50%\n"
     ]
    },
    {
     "name": "stderr",
     "output_type": "stream",
     "text": [
      "Epoch [4/11], Batch [112/112], Loss: 0.1394:  36%|███▋      | 448/1232 [13:23<17:56,  1.37s/it]"
     ]
    },
    {
     "name": "stdout",
     "output_type": "stream",
     "text": [
      "Epoch [4/11], Training Accuracy: 88.05%\n",
      "Validation Accuracy: 79.25%\n"
     ]
    },
    {
     "name": "stderr",
     "output_type": "stream",
     "text": [
      "Epoch [5/11], Batch [112/112], Loss: 0.5410:  45%|████▌     | 560/1232 [16:45<15:19,  1.37s/it]"
     ]
    },
    {
     "name": "stdout",
     "output_type": "stream",
     "text": [
      "Epoch [5/11], Training Accuracy: 91.28%\n",
      "Validation Accuracy: 80.50%\n"
     ]
    },
    {
     "name": "stderr",
     "output_type": "stream",
     "text": [
      "Epoch [6/11], Batch [112/112], Loss: 0.0463:  55%|█████▍    | 672/1232 [20:06<12:44,  1.37s/it]"
     ]
    },
    {
     "name": "stdout",
     "output_type": "stream",
     "text": [
      "Epoch [6/11], Training Accuracy: 94.29%\n",
      "Validation Accuracy: 79.87%\n"
     ]
    },
    {
     "name": "stderr",
     "output_type": "stream",
     "text": [
      "Epoch [7/11], Batch [112/112], Loss: 0.0271:  64%|██████▎   | 784/1232 [23:28<10:09,  1.36s/it]"
     ]
    },
    {
     "name": "stdout",
     "output_type": "stream",
     "text": [
      "Epoch [7/11], Training Accuracy: 96.09%\n",
      "Validation Accuracy: 77.99%\n"
     ]
    },
    {
     "name": "stderr",
     "output_type": "stream",
     "text": [
      "Epoch [8/11], Batch [112/112], Loss: 0.0365:  73%|███████▎  | 896/1232 [26:49<07:39,  1.37s/it]"
     ]
    },
    {
     "name": "stdout",
     "output_type": "stream",
     "text": [
      "Epoch [8/11], Training Accuracy: 97.12%\n",
      "Validation Accuracy: 77.36%\n"
     ]
    },
    {
     "name": "stderr",
     "output_type": "stream",
     "text": [
      "Epoch [9/11], Batch [112/112], Loss: 0.0208:  82%|████████▏ | 1008/1232 [30:13<05:05,  1.36s/it]"
     ]
    },
    {
     "name": "stdout",
     "output_type": "stream",
     "text": [
      "Epoch [9/11], Training Accuracy: 98.25%\n",
      "Validation Accuracy: 79.87%\n"
     ]
    },
    {
     "name": "stderr",
     "output_type": "stream",
     "text": [
      "Epoch [10/11], Batch [112/112], Loss: 0.0089:  91%|█████████ | 1120/1232 [33:35<02:32,  1.36s/it]"
     ]
    },
    {
     "name": "stdout",
     "output_type": "stream",
     "text": [
      "Epoch [10/11], Training Accuracy: 97.35%\n",
      "Validation Accuracy: 78.62%\n"
     ]
    },
    {
     "name": "stderr",
     "output_type": "stream",
     "text": [
      "Epoch [11/11], Batch [112/112], Loss: 0.0230: 100%|██████████| 1232/1232 [36:57<00:00,  1.37s/it]"
     ]
    },
    {
     "name": "stdout",
     "output_type": "stream",
     "text": [
      "Epoch [11/11], Training Accuracy: 98.38%\n",
      "Validation Accuracy: 79.87%\n"
     ]
    },
    {
     "data": {
      "image/png": "[encoded data removed]",
      "text/plain": [
       "<Figure size 640x480 with 1 Axes>"
      ]
     },
     "metadata": {},
     "output_type": "display_data"
    }
   ],
   "source": [
    "# load BERT model\n",
    "model = BertForSequenceClassification.from_pretrained('bert-base-uncased', num_labels=2).to(device)\n",
    "\n",
    "# define optimizer and data loaders\n",
    "optimizer = torch.optim.AdamW(model.parameters(), lr=lr)\n",
    "train_loader = torch.utils.data.DataLoader(train_dataset, batch_size=batch_size, shuffle=True)\n",
    "model.train()\n",
    "\n",
    "total_batches = len(train_loader) * epochs\n",
    "progress_bar = tqdm(total=total_batches)\n",
    "\n",
    "train_accuracies = []\n",
    "val_accuracies = []\n",
    "\n",
    "# training loop\n",
    "for epoch in range(epochs):\n",
    "    model.train()\n",
    "    running_loss = 0.0\n",
    "    correct = 0\n",
    "    total = 0\n",
    "    for batch_idx, batch in enumerate(train_loader):\n",
    "        input_ids, attention_mask, labels = batch\n",
    "        input_ids = input_ids.to(device)\n",
    "        attention_mask = attention_mask.to(device)\n",
    "        labels = labels.to(device)\n",
    "        optimizer.zero_grad()\n",
    "        outputs = model(input_ids= input_ids, attention_mask=attention_mask, labels=labels)\n",
    "        loss = outputs.loss\n",
    "        loss.backward()\n",
    "        optimizer.step()\n",
    "\n",
    "        # calculate correctness\n",
    "        running_loss += loss.item()\n",
    "        _, predicted = torch.max(outputs.logits, 1)\n",
    "        total += labels.size(0)\n",
    "        correct += (predicted == labels).sum().item()\n",
    "\n",
    "        progress_bar.update(1)\n",
    "        progress_bar.set_description(f\"Epoch [{epoch+1}/{epochs}], Batch [{batch_idx+1}/{len(train_loader)}], Loss: {loss.item():.4f}\")\n",
    "\n",
    "\n",
    "    # print epoch-wise training accuracy\n",
    "    train_epoch_accuracy = 100 * correct / total\n",
    "    print(f\"Epoch [{epoch+1}/{epochs}], Training Accuracy: {train_epoch_accuracy:.2f}%\")\n",
    "    torch.save(model.state_dict(), '/content/drive/MyDrive/IMT574/model'+str(epoch)+'.pth')\n",
    "    train_accuracies.append(train_epoch_accuracy)\n",
    "\n",
    "\n",
    "    # validate the model\n",
    "    val_loader = torch.utils.data.DataLoader(val_dataset, batch_size=20, shuffle=False)\n",
    "\n",
    "    model.eval()\n",
    "    val_predictions = []\n",
    "    val_true_labels = []\n",
    "    with torch.no_grad():\n",
    "        for batch in val_loader:\n",
    "            input_ids, attention_mask, labels = batch\n",
    "            input_ids = input_ids.to(device)\n",
    "            attention_mask = attention_mask.to(device)\n",
    "            labels = labels.to(device)\n",
    "            outputs = model(input_ids=input_ids, attention_mask=attention_mask)\n",
    "            logits = outputs.logits\n",
    "            _, predicted = torch.max(logits, 1)\n",
    "            val_predictions.extend(predicted.tolist())\n",
    "            val_true_labels.extend(labels.tolist())\n",
    "\n",
    "    # calculate validation accuracy\n",
    "    val_accuracy = accuracy_score(val_true_labels, val_predictions)\n",
    "    print(f\"Validation Accuracy: {val_accuracy * 100:.2f}%\")\n",
    "    val_accuracies.append(val_accuracy*100)\n",
    "\n",
    "# plot training and validation accuracies\n",
    "epochs_list = range(1, epochs + 1)\n",
    "\n",
    "plt.plot(epochs_list, train_accuracies, label='Training Accuracy')\n",
    "plt.plot(epochs_list, val_accuracies, label='Validation Accuracy')\n",
    "plt.xlabel('Epochs')\n",
    "plt.ylabel('Accuracy')\n",
    "plt.title('Training and Validation Accuracy')\n",
    "plt.legend()\n",
    "plt.show()"
   ]
  },
  {
   "cell_type": "code",
   "execution_count": 17,
   "metadata": {
    "colab": {
     "base_uri": "https://localhost:8080/",
     "height": 523
    },
    "id": "X8nBnDmzTM1f",
    "outputId": "84393823-0128-4256-bbda-c1bf85ba9e47"
   },
   "outputs": [
    {
     "name": "stderr",
     "output_type": "stream",
     "text": [
      "Some weights of BertForSequenceClassification were not initialized from the model checkpoint at bert-base-uncased and are newly initialized: ['classifier.bias', 'classifier.weight']\n",
      "You should probably TRAIN this model on a down-stream task to be able to use it for predictions and inference.\n"
     ]
    },
    {
     "name": "stdout",
     "output_type": "stream",
     "text": [
      "Test Accuracy: 83.83%\n"
     ]
    },
    {
     "data": {
      "image/png": "[encoded data removed]",
      "text/plain": [
       "<Figure size 640x480 with 2 Axes>"
      ]
     },
     "metadata": {},
     "output_type": "display_data"
    }
   ],
   "source": [
    "# load the best model from fine-tune attempts\n",
    "model = BertForSequenceClassification.from_pretrained('bert-base-uncased', num_labels=2).to(device)\n",
    "checkpoint = '/content/drive/MyDrive/IMT574/model_best.pth'\n",
    "model.load_state_dict(torch.load(checkpoint))\n",
    "\n",
    "# final evaluate test the model\n",
    "test_loader = torch.utils.data.DataLoader(test_dataset, batch_size=2, shuffle=False)\n",
    "\n",
    "model.eval()\n",
    "test_predictions = []\n",
    "test_true_labels = []\n",
    "with torch.no_grad():\n",
    "    for batch in test_loader:\n",
    "        input_ids, attention_mask, labels = batch\n",
    "        input_ids = input_ids.to(device)\n",
    "        attention_mask = attention_mask.to(device)\n",
    "        labels = labels.to(device)\n",
    "        outputs = model(input_ids=input_ids, attention_mask=attention_mask)\n",
    "        logits = outputs.logits\n",
    "        _, predicted = torch.max(logits, 1)\n",
    "        test_predictions.extend(predicted.tolist())\n",
    "        test_true_labels.extend(labels.tolist())\n",
    "\n",
    "# calculate test accuracy\n",
    "test_accuracy = accuracy_score(test_true_labels, test_predictions)\n",
    "print(f\"Test Accuracy: {test_accuracy * 100:.2f}%\")\n",
    "\n",
    "# plot the confusion matrix\n",
    "cm = confusion_matrix(test_true_labels, test_predictions)\n",
    "disp = ConfusionMatrixDisplay(confusion_matrix=cm)\n",
    "disp.plot(cmap='Blues', values_format='.2f')\n",
    "plt.title('Confusion Matrix')\n",
    "plt.show()"
   ]
  },
  {
   "cell_type": "markdown",
   "metadata": {
    "collapsed": false,
    "id": "LwiVTaw-MogK",
    "jupyter": {
     "outputs_hidden": false
    }
   },
   "source": [
    "**First Fine-tuning Attempt - Appendix 1:**\n",
    "\n",
    "- **Epochs:** 15\n",
    "- **Learning Rate (lr):** 1e-5\n",
    "- **Batch Size:** 20\n",
    "- **Final Test Accuracy:** 82.57%\n",
    "- The model stuck with the local minimal problem when optimizing parameters after 15 epochs.\n",
    "\n",
    "**Second Fine-tuning Attempt - Appendix 2:**\n",
    "- **Epochs:** 20\n",
    "- **Learning Rate (lr):** 2e-5\n",
    "- **Batch Size:** 16\n",
    "- **Final Test Accuracy:** 82.71%\n",
    "- The model has difficulties in convergence.\n",
    "\n",
    "**Third Fine-tuning Attempt - Appendix 3:**\n",
    "- **Epochs:** 10\n",
    "- **Learning Rate (lr):** 3e-5\n",
    "- **Batch Size:** 16\n",
    "- **Final Test Accuracy:** 79.10%\n",
    "- The learning rate is too large and its performance is unstable.\n",
    "\n",
    "The charts provide validation accuracy line and training accuracy line in different model settings. All the three models showed the solid training accuracies, each reaching a peak around 98%. However, the validation accuracy did not exhibit the same level of improvement, suggesting that the model have started overfitting to the training data. This is a typical indication that the model is learning patterns specific to the training data (memorizing training data) that do not generalize well to unseen data.\n",
    "\n",
    "**Final Model Settings:**\n",
    "- **Epochs:** 11\n",
    "- **Learning Rate (lr):** 1e-5\n",
    "- **Batch Size:** 20\n",
    "- **Final Test Accuracy:** 83.83%\n",
    "\n",
    "The final model settings I settled on are based on my first fine-tuning attempt. It balances the learning rate and batch size, and stops the training at the peak of validation accuracy to avoid further overfitting."
   ]
  },
  {
   "cell_type": "markdown",
   "metadata": {
    "collapsed": false,
    "id": "RtstEYyNMogK",
    "jupyter": {
     "outputs_hidden": false
    }
   },
   "source": [
    "1. Long training time:\n",
    "One significant challenge was the long training time required for BERT model. To mitigate the difficulty, I shuffled the dataset and only use a small proportion data when initially developing the model. Additionally, leveraging cloud-based computing resources such as Colab allows me to training several models with different model settings at the same time which significantly reduces training time and improves overall efficiency.\n",
    "\n",
    "2. Randomness and model reproducibility:\n",
    "Another challenge was ensuring reproducibility and consistency across model training runs due to the inherent randomness involved in training neural networks. Inconsistent results between runs can make it difficult to assess the effectiveness of parameter optimization or compare model performance accurately. To address this, I controlled randomness by setting a fixed random seed at the beginning of model training and save the model state after each epoch, enabling easy reproducibility and resume training from a specific checkpoint if necessary."
   ]
  },
  {
   "cell_type": "markdown",
   "metadata": {
    "collapsed": false,
    "id": "F7tIpk41MogL",
    "jupyter": {
     "outputs_hidden": false
    }
   },
   "source": [
    "**Explanation of the answer to research question:**\n",
    "By training BERT on a dataset containing labeled posts from various subreddits, the model effectively learns to identify linguistic patterns and contextual cues indicative of suicidal ideation. Through this supervised learning process, the model is trained to classify posts as either containing suicidal content or not, thereby providing insights into the relationship between language use in posts and mental health concerns.\n",
    "\n",
    "**Risks and Advantages of applying the solution to unseen data & Consequences:**\n",
    "\n",
    "*Risks:*\n",
    "- Overreliance on AI systems: Relying solely on automated systems to detect and intervene in cases of suicidal intention may lead to inappropriate interventions or missed opportunities for support when the model is wrong.\n",
    "- Privacy concerns and ethical considerations: Automated monitoring of online content raises privacy concerns regarding the surveillance and profiling of individuals’ mental health conditions without explicit consent.\n",
    "*Negative consequences:*\n",
    "- False alarms: Incorrectly flagging non-suicidal posts as indicative of suicidal intention (false positives) may lead to unnecessary distress or intervention for individuals, potentially exacerbating their mental health issues.\n",
    "- Missed signals: Failing to identify posts containing genuine signals of suicidal ideation (false negatives) could result in missed opportunities for providing support and intervention.\n",
    "\n",
    "*Advantages:*\n",
    "- Early intervention: Automated detection of suicidal intention allows for timely intervention and mental support, potentially saving lives by providing professional assistance to individuals in distress.\n",
    "*Positive consequences:*\n",
    "- Timely assistance: Accurately identifying individuals at risk of suicidal behavior allows for timely intervention and support, mitigating the severity of mental health crises.\n",
    "- Scalability: The model can be applied to large volumes of online posts, allowing for efficient screening and monitoring of online communities for signs of distress.\n",
    "\n",
    "**Societal impacts:**\n",
    "\n",
    "*Negative impacts:*\n",
    "- Stigmatization: Misclassification(or correct classification) of posts may reinforce stereotypes and stigmatization surrounding mental health issues, leading to potential marginalization of affected individuals.\n",
    "- Privacy concerns: Automated monitoring of online content without consent may erode trust in online platforms and their ability to handle sensitive personal information.\n",
    "\n",
    "*Positive impacts:*\n",
    "- Support and empowerment: Providing timely support and resources to individuals in distress empowers them to seek help and navigate their mental health challenges more effectively.\n",
    "- Raise social awareness: By fostering open discussions and support networks for mental health, the solution contributes to building more inclusive and supportive online communities, where individuals feel comfortable seeking help and sharing their experiences without fear of judgment."
   ]
  },
  {
   "cell_type": "markdown",
   "metadata": {
    "collapsed": false,
    "id": "wsej6hWIMogL",
    "jupyter": {
     "outputs_hidden": false
    }
   },
   "source": [
    "**Potential research question:**\n",
    "How do online community dynamics relate to mental health discussions?\n",
    "\n",
    "**Importance:**\n",
    "Understanding the role of online community dynamics in shaping attitudes, behaviors, and support mechanisms related to mental health is important for developing more targeted interventions and more supportive systems. It can contribute to the development of more effective intervention strategies and platform policies to foster safe, supportive, and inclusive online environments for individuals struggling with mental health issues."
   ]
  },
  {
   "cell_type": "markdown",
   "metadata": {
    "collapsed": false,
    "id": "irgc3PPjMogM",
    "jupyter": {
     "outputs_hidden": false
    }
   },
   "source": [
    "### **Appendix 1**\n",
    "\n",
    "**model settings:**\n",
    "**epochs = 15**\n",
    "**lr = 1e-5**\n",
    "**batch_size = 20**\n",
    "**Final test accuracy = 82.57%**\n",
    "\n",
    "Epoch [1/15], Batch [112/112], Loss: 0.8999:   7%|▋         | 112/1680 [03:14<37:04,  1.42s/it]\n",
    "Epoch [1/15], Training Accuracy: 69.14%\n",
    "Validation Accuracy: 75.47%\n",
    "\n",
    "Epoch [2/15], Batch [112/112], Loss: 0.4984:  13%|█▎        | 224/1680 [07:05<34:23,  1.42s/it]\n",
    "Epoch [2/15], Training Accuracy: 79.20%\n",
    "Validation Accuracy: 81.45%\n",
    "\n",
    "Epoch [3/15], Batch [112/112], Loss: 0.2105:  20%|██        | 336/1680 [10:57<31:40,  1.41s/it]\n",
    "Epoch [3/15], Training Accuracy: 85.76%\n",
    "Validation Accuracy: 80.82%\n",
    "\n",
    "Epoch [4/15], Batch [112/112], Loss: 0.4798:  27%|██▋       | 448/1680 [14:48<29:04,  1.42s/it]\n",
    "Epoch [4/15], Training Accuracy: 88.59%\n",
    "Validation Accuracy: 81.76%\n",
    "\n",
    "Epoch [5/15], Batch [112/112], Loss: 0.1621:  33%|███▎      | 560/1680 [18:43<26:28,  1.42s/it]\n",
    "Epoch [5/15], Training Accuracy: 92.32%\n",
    "Validation Accuracy: 81.45%\n",
    "\n",
    "Epoch [6/15], Batch [112/112], Loss: 0.0683:  40%|████      | 672/1680 [22:39<23:46,  1.42s/it]\n",
    "Epoch [6/15], Training Accuracy: 94.88%\n",
    "Validation Accuracy: 77.99%\n",
    "\n",
    "Epoch [7/15], Batch [112/112], Loss: 0.0144:  47%|████▋     | 784/1680 [26:35<21:10,  1.42s/it]\n",
    "Epoch [7/15], Training Accuracy: 96.81%\n",
    "Validation Accuracy: 79.87%\n",
    "\n",
    "Epoch [8/15], Batch [112/112], Loss: 0.0128:  53%|█████▎    | 896/1680 [30:27<18:30,  1.42s/it]\n",
    "Epoch [8/15], Training Accuracy: 97.75%\n",
    "Validation Accuracy: 77.04%\n",
    "\n",
    "Epoch [9/15], Batch [112/112], Loss: 0.0242:  60%|██████    | 1008/1680 [34:19<15:52,  1.42s/it]\n",
    "Epoch [9/15], Training Accuracy: 98.20%\n",
    "Validation Accuracy: 78.30%\n",
    "\n",
    "Epoch [10/15], Batch [112/112], Loss: 0.4199:  67%|██████▋   | 1120/1680 [38:10<13:13,  1.42s/it]\n",
    "Epoch [10/15], Training Accuracy: 98.25%\n",
    "Validation Accuracy: 77.36%\n",
    "\n",
    "Epoch [11/15], Batch [112/112], Loss: 0.0079:  73%|███████▎  | 1232/1680 [42:02<10:35,  1.42s/it]\n",
    "Epoch [11/15], Training Accuracy: 96.77%\n",
    "Validation Accuracy: 81.13%\n",
    "\n",
    "Epoch [12/15], Batch [112/112], Loss: 0.0078:  80%|████████  | 1344/1680 [45:53<07:57,  1.42s/it]\n",
    "Epoch [12/15], Training Accuracy: 98.20%\n",
    "Validation Accuracy: 78.30%\n",
    "\n",
    "Epoch [13/15], Batch [112/112], Loss: 0.0082:  87%|████████▋ | 1456/1680 [49:44<05:16,  1.41s/it]\n",
    "Epoch [13/15], Training Accuracy: 99.15%\n",
    "Validation Accuracy: 78.93%\n",
    "\n",
    "Epoch [14/15], Batch [112/112], Loss: 0.3775:  93%|█████████▎| 1568/1680 [53:40<02:38,  1.41s/it]\n",
    "Epoch [14/15], Training Accuracy: 98.70%\n",
    "Validation Accuracy: 80.19%\n",
    "\n",
    "Epoch [15/15], Batch [112/112], Loss: 0.0043: 100%|██████████| 1680/1680 [57:31<00:00,  1.41s/it]\n",
    "Epoch [15/15], Training Accuracy: 99.24%\n",
    "Validation Accuracy: 78.93%"
   ]
  },
  {
   "cell_type": "markdown",
   "metadata": {
    "collapsed": false,
    "id": "B9ozxWrbMogM",
    "jupyter": {
     "outputs_hidden": false
    }
   },
   "source": [
    "### **Appendix 2**\n",
    "\n",
    "**model settings:**\n",
    "**epochs = 20**\n",
    "**lr = 2e-5**\n",
    "**batch_size = 16**\n",
    "**Final test accuracy = 82.71%**\n",
    "\n",
    "Epoch [1/20], Batch [157/157], Loss: 0.3845:   5%|▌         | 157/3140 [03:39<1:06:54,  1.35s/it]\n",
    "Epoch [1/20], Training Accuracy: 74.92%\n",
    "Validation Accuracy: 83.80%\n",
    "\n",
    "Epoch [2/20], Batch [157/157], Loss: 0.1777:  10%|█         | 314/3140 [08:09<1:05:32,  1.39s/it]\n",
    "Epoch [2/20], Training Accuracy: 85.21%\n",
    "Validation Accuracy: 82.96%\n",
    "\n",
    "Epoch [3/20], Batch [157/157], Loss: 0.3638:  15%|█▌        | 471/3140 [12:46<1:02:01,  1.39s/it]\n",
    "Epoch [3/20], Training Accuracy: 91.19%\n",
    "Validation Accuracy: 80.73%\n",
    "\n",
    "Epoch [4/20], Batch [157/157], Loss: 0.1403:  20%|██        | 628/3140 [17:21<58:11,  1.39s/it]\n",
    "Epoch [4/20], Training Accuracy: 95.30%\n",
    "Validation Accuracy: 79.89%\n",
    "\n",
    "Epoch [5/20], Batch [157/157], Loss: 0.0077:  25%|██▌       | 785/3140 [21:59<54:23,  1.39s/it]\n",
    "Epoch [5/20], Training Accuracy: 96.49%\n",
    "Validation Accuracy: 80.73%\n",
    "\n",
    "Epoch [6/20], Batch [157/157], Loss: 0.0195:  30%|███       | 942/3140 [26:37<51:13,  1.40s/it]\n",
    "Epoch [6/20], Training Accuracy: 97.45%\n",
    "Validation Accuracy: 81.01%\n",
    "\n",
    "Epoch [7/20], Batch [157/157], Loss: 0.1627:  35%|███▌      | 1099/3140 [31:13<47:12,  1.39s/it]\n",
    "Epoch [7/20], Training Accuracy: 97.65%\n",
    "Validation Accuracy: 82.12%\n",
    "\n",
    "Epoch [8/20], Batch [157/157], Loss: 0.1475:  40%|████      | 1256/3140 [35:50<43:29,  1.39s/it]\n",
    "Epoch [8/20], Training Accuracy: 98.64%\n",
    "Validation Accuracy: 82.12%\n",
    "\n",
    "Epoch [9/20], Batch [157/157], Loss: 0.0289:  45%|████▌     | 1413/3140 [40:29<39:46,  1.38s/it]\n",
    "Epoch [9/20], Training Accuracy: 98.33%\n",
    "Validation Accuracy: 82.12%\n",
    "\n",
    "Epoch [10/20], Batch [157/157], Loss: 0.0803:  50%|█████     | 1570/3140 [45:02<36:12,  1.38s/it]\n",
    "Epoch [10/20], Training Accuracy: 97.81%\n",
    "Validation Accuracy: 82.40%\n",
    "\n",
    "Epoch [11/20], Batch [157/157], Loss: 0.0614:  55%|█████▌    | 1727/3140 [49:37<32:41,  1.39s/it]\n",
    "Epoch [11/20], Training Accuracy: 97.85%\n",
    "Validation Accuracy: 79.61%\n",
    "\n",
    "Epoch [12/20], Batch [157/157], Loss: 0.0115:  60%|██████    | 1884/3140 [54:11<28:57,  1.38s/it]\n",
    "Epoch [12/20], Training Accuracy: 98.68%\n",
    "Validation Accuracy: 82.12%\n",
    "\n",
    "Epoch [13/20], Batch [157/157], Loss: 0.0111:  65%|██████▌   | 2041/3140 [58:49<25:21,  1.38s/it]\n",
    "Epoch [13/20], Training Accuracy: 98.29%\n",
    "Validation Accuracy: 83.80%\n",
    "\n",
    "Epoch [14/20], Batch [157/157], Loss: 0.0216:  70%|███████   | 2198/3140 [1:03:23<21:42,  1.38s/it]\n",
    "Epoch [14/20], Training Accuracy: 98.64%\n",
    "Validation Accuracy: 82.96%\n",
    "\n",
    "Epoch [15/20], Batch [157/157], Loss: 0.0171:  75%|███████▌  | 2355/3140 [1:08:01<18:05,  1.38s/it]\n",
    "Epoch [15/20], Training Accuracy: 98.17%\n",
    "Validation Accuracy: 82.96%\n",
    "\n",
    "Epoch [16/20], Batch [157/157], Loss: 0.0014:  80%|████████  | 2512/3140 [1:12:35<14:32,  1.39s/it]\n",
    "Epoch [16/20], Training Accuracy: 98.60%\n",
    "Validation Accuracy: 80.17%\n",
    "\n",
    "Epoch [17/20], Batch [157/157], Loss: 0.0240:  85%|████████▌ | 2669/3140 [1:17:08<10:52,  1.39s/it]\n",
    "Epoch [17/20], Training Accuracy: 98.64%\n",
    "Validation Accuracy: 82.12%\n",
    "\n",
    "Epoch [18/20], Batch [157/157], Loss: 0.0198:  90%|█████████ | 2826/3140 [1:21:44<07:13,  1.38s/it]\n",
    "Epoch [18/20], Training Accuracy: 98.29%\n",
    "Validation Accuracy: 81.01%\n",
    "\n",
    "Epoch [19/20], Batch [157/157], Loss: 0.0118:  95%|█████████▌| 2983/3140 [1:26:21<03:38,  1.39s/it]\n",
    "Epoch [19/20], Training Accuracy: 98.37%\n",
    "Validation Accuracy: 78.77%\n",
    "\n",
    "Epoch [20/20], Batch [157/157], Loss: 0.0133: 100%|██████████| 3140/3140 [1:30:59<00:00,  1.39s/it]\n",
    "Epoch [20/20], Training Accuracy: 98.44%\n",
    "Validation Accuracy: 81.28%"
   ]
  },
  {
   "cell_type": "markdown",
   "metadata": {
    "collapsed": false,
    "id": "lY8OEcTeMogN",
    "jupyter": {
     "outputs_hidden": false
    }
   },
   "source": [
    "### **Appendix 3**\n",
    "\n",
    "**model settings:**\n",
    "**epochs = 10**\n",
    "**lr = 3e-5**\n",
    "**batch_size = 16**\n",
    "**Final test accuracy = 79.10%**\n",
    "\n",
    "Epoch [1/10], Batch [160/160], Loss: 0.5917:  10%|█         | 160/1600 [03:33<30:49,  1.28s/it]\n",
    "Epoch [1/10], Training Accuracy: 69.42%\n",
    "Validation Accuracy: 77.53%\n",
    "\n",
    "Epoch [2/10], Batch [160/160], Loss: 0.6887:  20%|██        | 320/1600 [07:48<27:41,  1.30s/it]\n",
    "Epoch [2/10], Training Accuracy: 82.09%\n",
    "Validation Accuracy: 81.37%\n",
    "\n",
    "Epoch [3/10], Batch [160/160], Loss: 0.1274:  30%|███       | 480/1600 [12:08<24:14,  1.30s/it]\n",
    "Epoch [3/10], Training Accuracy: 86.55%\n",
    "Validation Accuracy: 78.08%\n",
    "\n",
    "Epoch [4/10], Batch [160/160], Loss: 0.3123:  40%|████      | 640/1600 [16:28<20:47,  1.30s/it]\n",
    "Epoch [4/10], Training Accuracy: 90.18%\n",
    "Validation Accuracy: 79.73%\n",
    "\n",
    "Epoch [5/10], Batch [160/160], Loss: 0.1822:  50%|█████     | 800/1600 [20:45<17:27,  1.31s/it]\n",
    "Epoch [5/10], Training Accuracy: 94.41%\n",
    "Validation Accuracy: 79.18%\n",
    "\n",
    "Epoch [6/10], Batch [160/160], Loss: 0.0254:  60%|██████    | 960/1600 [25:04<13:56,  1.31s/it]\n",
    "Epoch [6/10], Training Accuracy: 95.74%\n",
    "Validation Accuracy: 79.18%\n",
    "\n",
    "Epoch [7/10], Batch [160/160], Loss: 0.0263:  70%|███████   | 1120/1600 [29:21<10:26,  1.30s/it]\n",
    "Epoch [7/10], Training Accuracy: 97.61%\n",
    "Validation Accuracy: 78.90%\n",
    "\n",
    "Epoch [8/10], Batch [160/160], Loss: 0.1333:  80%|████████  | 1280/1600 [33:39<06:56,  1.30s/it]\n",
    "Epoch [8/10], Training Accuracy: 97.89%\n",
    "Validation Accuracy: 81.37%\n",
    "\n",
    "Epoch [9/10], Batch [160/160], Loss: 0.0440:  90%|█████████ | 1440/1600 [38:02<03:28,  1.30s/it]\n",
    "Epoch [9/10], Training Accuracy: 96.99%\n",
    "Validation Accuracy: 80.00%\n",
    "\n",
    "Epoch [10/10], Batch [160/160], Loss: 0.0258: 100%|██████████| 1600/1600 [42:18<00:00,  1.30s/it]\n",
    "Epoch [10/10], Training Accuracy: 96.95%\n",
    "Validation Accuracy: 80.27%"
   ]
  },
  {
   "cell_type": "code",
   "execution_count": null,
   "metadata": {},
   "outputs": [],
   "source": []
  }
 ],
 "metadata": {
  "accelerator": "GPU",
  "colab": {
   "gpuType": "T4",
   "provenance": []
  },
  "kernelspec": {
   "display_name": "Python 3 (ipykernel)",
   "language": "python",
   "name": "python3"
  },
  "language_info": {
   "codemirror_mode": {
    "name": "ipython",
    "version": 3
   },
   "file_extension": ".py",
   "mimetype": "text/x-python",
   "name": "python",
   "nbconvert_exporter": "python",
   "pygments_lexer": "ipython3",
   "version": "3.9.18"
  }
 },
 "nbformat": 4,
 "nbformat_minor": 4
}
